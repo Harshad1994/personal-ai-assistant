{
 "cells": [
  {
   "cell_type": "code",
   "execution_count": 1,
   "id": "8ee320f6",
   "metadata": {},
   "outputs": [],
   "source": [
    "MONGO_DB_NAME = \"personal_ai_assistant_1\"\n",
    "MONGO_URI = \"mongodb://localhost:27017\"\n",
    "MONGO_STATE_CHECKPOINT_COLLECTION = \"state_checkpoints\"\n",
    "MONGO_STATE_WRITES_COLLECTION = \"state_writes\""
   ]
  },
  {
   "cell_type": "code",
   "execution_count": 4,
   "id": "87b20ccc",
   "metadata": {},
   "outputs": [],
   "source": [
    "from langchain_core.messages import HumanMessage\n",
    "from langgraph.store.mongodb import MongoDBStore\n",
    "from langgraph.checkpoint.mongodb import MongoDBSaver"
   ]
  },
  {
   "cell_type": "code",
   "execution_count": 5,
   "id": "02e7cd6c",
   "metadata": {},
   "outputs": [],
   "source": [
    "from agents.personal_assistant import builder"
   ]
  },
  {
   "cell_type": "code",
   "execution_count": 7,
   "id": "ccf1fe96",
   "metadata": {},
   "outputs": [],
   "source": [
    "def generate_response_with_memory(input_message):\n",
    "    \n",
    "    with MongoDBSaver.from_conn_string(\n",
    "            conn_string=MONGO_URI,\n",
    "            db_name=MONGO_DB_NAME,\n",
    "            checkpoint_collection_name=MONGO_STATE_CHECKPOINT_COLLECTION,\n",
    "            writes_collection_name=MONGO_STATE_WRITES_COLLECTION,\n",
    "        ) as checkpointer:\n",
    "          \n",
    "        with MongoDBStore.from_conn_string(\n",
    "                conn_string=MONGO_URI,\n",
    "                db_name=MONGO_DB_NAME,\n",
    "                collection_name=\"memory-store\",\n",
    "            ) as store:\n",
    "                graph = builder.compile(checkpointer=checkpointer, store=store)\n",
    "\n",
    "                config = {\n",
    "                    \"configurable\": {\"thread_id\": \"1\", \"user_id\":\"4321\"},\n",
    "                }\n",
    "                output_state =  graph.invoke(\n",
    "                    input={ \"messages\": input_message},\n",
    "                    config=config,\n",
    "                )\n",
    "                \n",
    "        last_message = output_state[\"messages\"][-1]\n",
    "        return last_message"
   ]
  },
  {
   "cell_type": "code",
   "execution_count": 9,
   "id": "3599c8be",
   "metadata": {},
   "outputs": [],
   "source": [
    "input_message = HumanMessage(content=\"Hello, My name is Harshad. I am a software engineer.\")"
   ]
  },
  {
   "cell_type": "code",
   "execution_count": 10,
   "id": "1b92ff44",
   "metadata": {},
   "outputs": [
    {
     "data": {
      "text/plain": [
       "AIMessage(content=\"Hello Harshad! It's nice to meet you. I see you're a software engineer. How can I assist you today?\", additional_kwargs={}, response_metadata={'token_usage': {'completion_tokens': 28, 'prompt_tokens': 645, 'total_tokens': 673, 'completion_time': 0.096908305, 'prompt_time': 0.659113517, 'queue_time': 0.045262963, 'total_time': 0.756021822}, 'model_name': 'llama-3.3-70b-versatile', 'system_fingerprint': 'fp_6507bcfb6f', 'service_tier': 'on_demand', 'finish_reason': 'stop', 'logprobs': None}, id='run--aaca1d05-7ab5-48f4-9d89-a33db27d3769-0', usage_metadata={'input_tokens': 645, 'output_tokens': 28, 'total_tokens': 673})"
      ]
     },
     "execution_count": 10,
     "metadata": {},
     "output_type": "execute_result"
    }
   ],
   "source": [
    "generate_response_with_memory(input_message=input_message)"
   ]
  },
  {
   "cell_type": "code",
   "execution_count": 11,
   "id": "4a352ea7",
   "metadata": {},
   "outputs": [],
   "source": [
    "input_message = HumanMessage(content=\"I want to complete the the long term memory test by today EOD. It will take 20 mins max'.\")"
   ]
  },
  {
   "cell_type": "code",
   "execution_count": 12,
   "id": "0507831c",
   "metadata": {},
   "outputs": [
    {
     "data": {
      "text/plain": [
       "AIMessage(content=\"I've updated your ToDo list. You want to complete the long term memory test by today EOD and it should take around 20 minutes. Is there anything else you'd like to add to your ToDo list or any other way I can help you?\", additional_kwargs={}, response_metadata={'token_usage': {'completion_tokens': 52, 'prompt_tokens': 839, 'total_tokens': 891, 'completion_time': 0.177006249, 'prompt_time': 0.068939246, 'queue_time': 0.048939944, 'total_time': 0.245945495}, 'model_name': 'llama-3.3-70b-versatile', 'system_fingerprint': 'fp_6507bcfb6f', 'service_tier': 'on_demand', 'finish_reason': 'stop', 'logprobs': None}, id='run--73f5e925-74ba-49aa-b457-82768014c442-0', usage_metadata={'input_tokens': 839, 'output_tokens': 52, 'total_tokens': 891})"
      ]
     },
     "execution_count": 12,
     "metadata": {},
     "output_type": "execute_result"
    }
   ],
   "source": [
    "generate_response_with_memory(input_message=input_message)"
   ]
  }
 ],
 "metadata": {
  "kernelspec": {
   "display_name": "personal-ai-assistant (3.12.11)",
   "language": "python",
   "name": "python3"
  },
  "language_info": {
   "codemirror_mode": {
    "name": "ipython",
    "version": 3
   },
   "file_extension": ".py",
   "mimetype": "text/x-python",
   "name": "python",
   "nbconvert_exporter": "python",
   "pygments_lexer": "ipython3",
   "version": "3.12.11"
  }
 },
 "nbformat": 4,
 "nbformat_minor": 5
}
